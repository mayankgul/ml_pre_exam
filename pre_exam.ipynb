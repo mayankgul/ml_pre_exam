{
 "cells": [
  {
   "cell_type": "markdown",
   "id": "a11f5d7f-68d2-4566-9d11-c0504f934912",
   "metadata": {},
   "source": [
    "# Question 1: Operations in Matrix Multiplication"
   ]
  },
  {
   "cell_type": "markdown",
   "id": "127de7d2-23b0-4170-aafb-ec97b73821ad",
   "metadata": {},
   "source": [
    "### Assumption\n",
    "\n",
    "Let us assume that we are using the most basic algorithm for multiplying matrices."
   ]
  },
  {
   "cell_type": "markdown",
   "id": "f97b92c0-8687-4c81-8930-65a44cda99ca",
   "metadata": {},
   "source": [
    "### Calculation\n",
    "\n",
    "Upon multiplying a $n \\times k$ matrix $A$ with a $k \\times m$ matrix $B$, we get a $n \\times m$ matrix $C$. The elements of this matrix $C$ can be defined as:\n",
    "\n",
    "$$C_{ij} = \\sum_{t=1}^{k} A_{it} B_{tj}$$\n",
    "\n",
    "where, $C_{ij}$ refers to the element belonging to the $i^{th}$ row and the $j^{th}$ column. Similarly, $A_{it}$ refers to the element belonging to the $i^{th}$ row and the $t^{th}$ column; and $B_{tj}$ refers to the element belonging to the $t^{th}$ row and the $j^{th}$ column.\n",
    "\n",
    "So, for each element $C_{ij}$ in the matrix $C$, we need $k$ multiplications and $k - 1$ additions, as we can see from the above expression for $C_{ij}$.\n",
    "\n",
    "Therefore, for such $n \\times m$ elements:\n",
    "\n",
    "$$Multiplications = n \\times m \\times k$$\n",
    "$$Additions = n \\times m \\times (k - 1)$$\n",
    "\n",
    "Hence, total no. of operations = $n \\times m \\times (2k - 1)$"
   ]
  },
  {
   "cell_type": "markdown",
   "id": "106a74c1-2512-4552-a054-ac92d9f3f071",
   "metadata": {},
   "source": [
    "### Python Code"
   ]
  },
  {
   "cell_type": "code",
   "execution_count": 49,
   "id": "b0a24eb1-4d69-49de-a73d-d74cb275dbec",
   "metadata": {},
   "outputs": [],
   "source": [
    "from typing import Dict, List"
   ]
  },
  {
   "cell_type": "code",
   "execution_count": 77,
   "id": "40affa13-9e1a-4889-bd6a-cc61a122da5a",
   "metadata": {
    "editable": true,
    "slideshow": {
     "slide_type": ""
    },
    "tags": []
   },
   "outputs": [],
   "source": [
    "# pre known number of operations\n",
    "def operations_count(n: int, k: int, m: int) -> Dict[str, int]:\n",
    "    mul_ops = n * m * k\n",
    "    add_ops = n * m * (k - 1)\n",
    "    \n",
    "    return {\"multiplications\": mul_ops, \"additions\": add_ops, \"total\": mul_ops + add_ops}"
   ]
  },
  {
   "cell_type": "code",
   "execution_count": 79,
   "id": "3a96d22b-4664-428d-90b5-8502c3550197",
   "metadata": {
    "editable": true,
    "slideshow": {
     "slide_type": ""
    },
    "tags": []
   },
   "outputs": [],
   "source": [
    "import random\n",
    "\n",
    "def multiply_matrix(n: int, k: int, m: int) -> Dict[str, int]:\n",
    "    # define matrices\n",
    "    A = [[random.random() for _ in range(k)] for __ in range(n)]\n",
    "    B = [[random.random() for _ in range(m)] for __ in range(k)]\n",
    "    \n",
    "    mul_ops = add_ops = 0\n",
    "\n",
    "    # perform matrix multiplication\n",
    "    for i in range(n):\n",
    "        for j in range(m):\n",
    "            sum = 0\n",
    "            \n",
    "            for t in range(k):\n",
    "                sum_term = A[i][t] * B[t][j]\n",
    "                mul_ops += 1\n",
    "                \n",
    "                if t == 0:\n",
    "                    sum = sum_term\n",
    "                else:\n",
    "                    sum += sum_term\n",
    "                    add_ops += 1\n",
    "    \n",
    "    return {\"multiplications\": mul_ops, \"additions\": add_ops, \"total\": mul_ops + add_ops}"
   ]
  },
  {
   "cell_type": "code",
   "execution_count": 81,
   "id": "4c441873-35ce-4a60-952a-b505350c9c39",
   "metadata": {
    "editable": true,
    "slideshow": {
     "slide_type": ""
    },
    "tags": []
   },
   "outputs": [
    {
     "name": "stdout",
     "output_type": "stream",
     "text": [
      "Calculated:  {'multiplications': 40, 'additions': 32, 'total': 72}\n",
      "Actual:  {'multiplications': 40, 'additions': 32, 'total': 72}\n"
     ]
    }
   ],
   "source": [
    "print(\"Calculated: \", operations_count(4, 5, 2))\n",
    "print(\"Actual: \", multiply_matrix(4, 5, 2))"
   ]
  },
  {
   "cell_type": "markdown",
   "id": "4178fb7b-b7ce-4706-99f5-e003d421e631",
   "metadata": {
    "editable": true,
    "slideshow": {
     "slide_type": ""
    },
    "tags": []
   },
   "source": [
    "---"
   ]
  },
  {
   "cell_type": "markdown",
   "id": "d04dce43-9294-4d1a-8a26-9e0d77245788",
   "metadata": {
    "editable": true,
    "slideshow": {
     "slide_type": ""
    },
    "tags": []
   },
   "source": [
    "# Question 2: Time Taken for Matrix Multiplication"
   ]
  },
  {
   "cell_type": "markdown",
   "id": "447cf973-94b7-4c29-b428-54a0a20d3207",
   "metadata": {
    "editable": true,
    "slideshow": {
     "slide_type": ""
    },
    "tags": []
   },
   "source": [
    "We will implement two methods for matrix multiplication.\n",
    "\n",
    "1. **Pure Python**: list of lists, using a triple-loop.\n",
    "2. **Numpy**: Using `np.matmul`."
   ]
  },
  {
   "cell_type": "markdown",
   "id": "41fc3b00-4c5c-44b6-9a28-7c042c1cfbca",
   "metadata": {
    "editable": true,
    "slideshow": {
     "slide_type": ""
    },
    "tags": []
   },
   "source": [
    "### Python Code"
   ]
  },
  {
   "cell_type": "code",
   "execution_count": 75,
   "id": "3d81dcc8-72f6-4d3f-ba0b-7b0c28d2c789",
   "metadata": {
    "editable": true,
    "slideshow": {
     "slide_type": ""
    },
    "tags": []
   },
   "outputs": [],
   "source": [
    "# Matrix sizes\n",
    "n, k, m = 120, 150, 100"
   ]
  },
  {
   "cell_type": "code",
   "execution_count": 83,
   "id": "f7cf21dd-f345-4d8c-8f1b-89b9234b7b85",
   "metadata": {
    "editable": true,
    "slideshow": {
     "slide_type": ""
    },
    "tags": []
   },
   "outputs": [],
   "source": [
    "import random\n",
    "import numpy as np\n",
    "\n",
    "# using same seed to reproduce random numbers\n",
    "random_generator = random.Random(0)\n",
    "np_random_generator = np.random.default_rng(0)"
   ]
  },
  {
   "cell_type": "code",
   "execution_count": 95,
   "id": "44d24b7e-8de3-4dbb-9cf7-a7da56f33bff",
   "metadata": {
    "editable": true,
    "slideshow": {
     "slide_type": ""
    },
    "tags": []
   },
   "outputs": [],
   "source": [
    "def py_matrix(rows, cols, low=-5, high=5):\n",
    "    return [[random_generator.randint(low, high) for _ in range(cols)] for __ in range(rows)]"
   ]
  },
  {
   "cell_type": "code",
   "execution_count": 97,
   "id": "3b03b67d-d8e4-4039-97f3-91843bc52881",
   "metadata": {
    "editable": true,
    "slideshow": {
     "slide_type": ""
    },
    "tags": []
   },
   "outputs": [],
   "source": [
    "# define matrices\n",
    "A_py = py_matrix(n, k)\n",
    "B_py = py_matrix(k, m)\n",
    "\n",
    "A_np = np.array(A_py, dtype=np.int64)\n",
    "B_np = np.array(B_py, dtype=np.int64)"
   ]
  },
  {
   "cell_type": "code",
   "execution_count": 112,
   "id": "bc6315ea-6587-47a1-b9c3-55fca2e3e44d",
   "metadata": {
    "editable": true,
    "slideshow": {
     "slide_type": ""
    },
    "tags": []
   },
   "outputs": [],
   "source": [
    "# pure python implementation\n",
    "def py_multiply_matrix(A, B):\n",
    "    C = [[0] * m for _ in range(n)]\n",
    "    \n",
    "    for i in range(n):\n",
    "        for j in range(m):\n",
    "            sum = 0\n",
    "            \n",
    "            for t in range(k):\n",
    "                sum += A[i][t] * B[t][j]\n",
    "            \n",
    "            C[i][j] = sum\n",
    "    \n",
    "    return C"
   ]
  },
  {
   "cell_type": "code",
   "execution_count": 102,
   "id": "6492e503-3a72-4109-80e3-0d8b4f56e143",
   "metadata": {
    "editable": true,
    "slideshow": {
     "slide_type": ""
    },
    "tags": []
   },
   "outputs": [],
   "source": [
    "# numpy implementation\n",
    "def np_multiply_matrix(A, B):\n",
    "    return np.matmul(A, B)"
   ]
  },
  {
   "cell_type": "code",
   "execution_count": 108,
   "id": "159133d2-51d2-4f3f-a621-10ee10190064",
   "metadata": {
    "editable": true,
    "slideshow": {
     "slide_type": ""
    },
    "tags": []
   },
   "outputs": [],
   "source": [
    "from statistics import median\n",
    "import time\n",
    "\n",
    "# comparing time taken by both implementations\n",
    "def compare_time(function, *args, repeats=10):\n",
    "    times = []\n",
    "    \n",
    "    for _ in range(repeats):\n",
    "        t0 = time.perf_counter()\n",
    "        \n",
    "        function(*args)\n",
    "        \n",
    "        t1 = time.perf_counter()\n",
    "        \n",
    "        times.append(t1 - t0)\n",
    "        \n",
    "    return min(times), median(times), max(times)"
   ]
  },
  {
   "cell_type": "code",
   "execution_count": 114,
   "id": "55f39fcb-2dad-47dd-a375-fb7a07e0333c",
   "metadata": {
    "editable": true,
    "slideshow": {
     "slide_type": ""
    },
    "tags": []
   },
   "outputs": [],
   "source": [
    "py_time = compare_time(py_multiply_matrix, A_py, B_py, repeats=5)\n",
    "np_time = compare_time(np_multiply_matrix, A_np, B_np, repeats=5)"
   ]
  },
  {
   "cell_type": "code",
   "execution_count": 116,
   "id": "18050b2f-2efb-47e2-adb6-1531f6c0f7e8",
   "metadata": {
    "editable": true,
    "slideshow": {
     "slide_type": ""
    },
    "tags": []
   },
   "outputs": [
    {
     "name": "stdout",
     "output_type": "stream",
     "text": [
      "Pure Python: min = 0.0578s, median = 0.0601s, max = 0.0990s\n",
      "NumPy: min = 0.000572s, median = 0.000576s, max = 0.002204s\n"
     ]
    }
   ],
   "source": [
    "print(f\"Pure Python: min = {py_time[0]:.4f}s, median = {py_time[1]:.4f}s, max = {py_time[2]:.4f}s\")\n",
    "print(f\"NumPy: min = {np_time[0]:.6f}s, median = {np_time[1]:.6f}s, max = {np_time[2]:.6f}s\")"
   ]
  },
  {
   "cell_type": "markdown",
   "id": "01f255a4-5c2e-4ab8-961f-8cb3b0a7a75d",
   "metadata": {
    "editable": true,
    "slideshow": {
     "slide_type": ""
    },
    "tags": []
   },
   "source": [
    "### Reason for Time Difference\n",
    "\n",
    "We can clearly observe that numpy is significantly faster. This is because of how basic operations are implemented in numpy, described by the following factors:\n",
    "\n",
    "1. Numpy uses BLAS and LAPACK for implementing standard linear algebra. This uses the CPU's vector instructions at the low-level and can parallelize operations, avoiding Python's per element overhead.\n",
    "2. Numpy arrays are contiguous and have better cache locality and prefetching capability.\n",
    "\n",
    "So, in asymptotic terms, both are $O(nkm)$, but low-level optimizations make numpy faster in practice."
   ]
  },
  {
   "cell_type": "markdown",
   "id": "c9a31e14-daad-4cc8-9864-609ab37efcb4",
   "metadata": {
    "editable": true,
    "slideshow": {
     "slide_type": ""
    },
    "tags": []
   },
   "source": [
    "---"
   ]
  },
  {
   "cell_type": "markdown",
   "id": "4a5b2568-40c7-42ba-83e6-06b98ed3c40d",
   "metadata": {
    "editable": true,
    "slideshow": {
     "slide_type": ""
    },
    "tags": []
   },
   "source": [
    "# Question 3 — Median of an Array"
   ]
  },
  {
   "cell_type": "markdown",
   "id": "aeb30247-f14a-433e-9e8d-f2b4bf7cc93c",
   "metadata": {
    "editable": true,
    "slideshow": {
     "slide_type": ""
    },
    "tags": []
   },
   "source": [
    "### Time Complexity\n",
    "\n",
    "- Finding the maximum element of an array of length $n$ takes one linear pass $= \\theta (n)$.\n",
    "- Finding the second largest element takes two linear passes $= \\theta (2n) = \\theta (n)$.\n",
    "\n",
    "If we extend this idea to the median (the $\\lceil n/2 \\rceil$-th order statistic), we need about $k=\\lceil n/2 \\rceil$ linear passes, each costing $\\theta (n)$:\n",
    "\n",
    "$$\\text{time} = \\theta (k n) = \\theta \\big(n \\cdot \\frac{n}{2}\\big) = \\theta (\\frac{n^2}{2}) = \\theta (n^2)$$\n",
    "\n",
    "So the repeated-pass method to find the median costs us $\\theta (n^2)$.\n",
    "\n",
    "A better method we can use is called **median of medians**, which is a deterministic selection algorithm for finding the $k^{th}$ smallest element (including the median) in an unsorted list in linear time."
   ]
  },
  {
   "cell_type": "markdown",
   "id": "73483af5-7e50-4708-8857-ec59bfb9c548",
   "metadata": {
    "editable": true,
    "slideshow": {
     "slide_type": ""
    },
    "tags": []
   },
   "source": [
    "### Implementation\n",
    "\n",
    "We will now implement:\n",
    "1. Repeated‑pass method: $\\theta (n^2)$\n",
    "2. Median of Medians: deterministic $\\theta (n)$ worst case selection\n",
    "3. Compare both against `numpy.median`"
   ]
  },
  {
   "cell_type": "markdown",
   "id": "7bd54d0e-eb97-46d1-b508-579318976963",
   "metadata": {
    "editable": true,
    "slideshow": {
     "slide_type": ""
    },
    "tags": []
   },
   "source": [
    "### Python Code"
   ]
  },
  {
   "cell_type": "code",
   "execution_count": 199,
   "id": "07df6d3c-d3fb-48a4-92c5-7f877faa8ad9",
   "metadata": {
    "editable": true,
    "slideshow": {
     "slide_type": ""
    },
    "tags": []
   },
   "outputs": [],
   "source": [
    "import random\n",
    "import numpy as np\n",
    "\n",
    "# using same seed to reproduce random numbers\n",
    "random_generator = random.Random(0)"
   ]
  },
  {
   "cell_type": "code",
   "execution_count": 157,
   "id": "c60f503f-68b6-49d6-913a-02fe65a45e97",
   "metadata": {
    "editable": true,
    "slideshow": {
     "slide_type": ""
    },
    "tags": []
   },
   "outputs": [],
   "source": [
    "from typing import List\n",
    "\n",
    "def make_list(n: int, low: int = -10000, high: int = 10000) -> List[int]:\n",
    "    return [random_generator.randint(low, high) for _ in range(n)]"
   ]
  },
  {
   "cell_type": "code",
   "execution_count": 181,
   "id": "cd8cdfec-15dd-43e4-8649-721e4438789a",
   "metadata": {
    "editable": true,
    "slideshow": {
     "slide_type": ""
    },
    "tags": []
   },
   "outputs": [],
   "source": [
    "# repeated pass method\n",
    "\n",
    "def remove_max(l: List[int]) -> int:\n",
    "    max_val_index = 0\n",
    "    max_val = l[0]\n",
    "\n",
    "    for i in range(1, len(l)):\n",
    "        if l[i] > max_val:\n",
    "            max_val = l[i]\n",
    "            max_val_index = i\n",
    "\n",
    "    l.pop(max_val_index)\n",
    "    \n",
    "    return max_val\n",
    "\n",
    "def median_repeated_pass(a: List[int]):\n",
    "    n = len(a)\n",
    "    \n",
    "    if n == 0:\n",
    "        return\n",
    "\n",
    "    arr = a[:]\n",
    "\n",
    "    if n % 2 == 1:\n",
    "        work_arr = arr[:]\n",
    "        \n",
    "        for _ in range(n // 2):\n",
    "            remove_max(work_arr)\n",
    "        \n",
    "        current_max_val = work[0]\n",
    "        \n",
    "        for val in work[1:]:\n",
    "            if val > current_max_val:\n",
    "                current_max_val = val\n",
    "        \n",
    "        return current_max_val\n",
    "    \n",
    "    else:\n",
    "        work_arr = arr[:]\n",
    "        \n",
    "        for _ in range(n // 2 - 1):\n",
    "            remove_max(work_arr)\n",
    "        \n",
    "        max1_index = 0\n",
    "        max1_val = work_arr[0]\n",
    "        \n",
    "        for i in range(1, len(work_arr)):\n",
    "            if work_arr[i] > max1_val:\n",
    "                max1_val = work_arr[i]\n",
    "                max1_index = i\n",
    "                \n",
    "        work_arr.pop(max1_index)\n",
    "        \n",
    "        max2_val = work_arr[0]\n",
    "        \n",
    "        for val in work_arr[1:]:\n",
    "            if val > max2_val:\n",
    "                max2_val = val\n",
    "                \n",
    "        return (max1_val + max2_val) / 2"
   ]
  },
  {
   "cell_type": "code",
   "execution_count": 191,
   "id": "fc8f7d4d-a60d-4531-a0e0-0efc55dab75b",
   "metadata": {
    "editable": true,
    "slideshow": {
     "slide_type": ""
    },
    "tags": []
   },
   "outputs": [],
   "source": [
    "# median of medians algorithm\n",
    "\n",
    "def kth_element(A: List[int], k: int) -> int:\n",
    "        n = len(A)\n",
    "        \n",
    "        if n <= 5:\n",
    "            return sorted(A)[k]\n",
    "            \n",
    "        groups = [A[i : i + 5] for i in range(0, n, 5)]\n",
    "        medians = [sorted(g) [len(g) // 2] for g in groups]\n",
    "        pivot = kth_element(medians, len(medians) // 2)\n",
    "        lows, pivots, highs = [], [], []\n",
    "        \n",
    "        for x in A:\n",
    "            if x < pivot: lows.append(x)\n",
    "            elif x > pivot: highs.append(x)\n",
    "            else: pivots.append(x)\n",
    "                \n",
    "        if k < len(lows):\n",
    "            return kth_element(lows, k)\n",
    "            \n",
    "        elif k < len(lows) + len(pivots):\n",
    "            return pivot\n",
    "            \n",
    "        else:\n",
    "            return kth_element(highs, k - len(lows) - len(pivots))\n",
    "\n",
    "def select_kth(a: List[int], k: int) -> int:\n",
    "    if not (0 <= k < len(a)):\n",
    "        raise IndexError(\"k out of bounds\")\n",
    "        \n",
    "    A = a[:]\n",
    "            \n",
    "    return kth_element(A, k)\n",
    "\n",
    "def median_of_medians(a: List[int]):\n",
    "    n = len(a)\n",
    "    \n",
    "    if n == 0:\n",
    "        return\n",
    "        \n",
    "    mid = n // 2\n",
    "    \n",
    "    if n % 2 == 1:\n",
    "        return select_kth(a, mid)\n",
    "        \n",
    "    else:\n",
    "        lower = select_kth(a, mid - 1)\n",
    "        upper = select_kth(a, mid)\n",
    "        \n",
    "        return (lower + upper) / 2"
   ]
  },
  {
   "cell_type": "code",
   "execution_count": 167,
   "id": "8fd0a532-3b6f-462b-915a-fc2c8b311234",
   "metadata": {
    "editable": true,
    "slideshow": {
     "slide_type": ""
    },
    "tags": []
   },
   "outputs": [],
   "source": [
    "# median using numpy\n",
    "\n",
    "def median_numpy(a: List[int]):\n",
    "    return float(np.median(np.array(a)))"
   ]
  },
  {
   "cell_type": "code",
   "execution_count": 195,
   "id": "86aeedfb-69df-4f76-a2ce-9375a4a509d5",
   "metadata": {
    "editable": true,
    "slideshow": {
     "slide_type": ""
    },
    "tags": []
   },
   "outputs": [],
   "source": [
    "# compare time taken by all implementations\n",
    "\n",
    "def compare_time(function, *args, repeats=10):\n",
    "    times = []\n",
    "    \n",
    "    for _ in range(repeats):\n",
    "        t0 = time.perf_counter()\n",
    "        function(*args)\n",
    "        t1 = time.perf_counter()\n",
    "        \n",
    "        times.append(t1 - t0)\n",
    "        \n",
    "    return min(times), sum(times) / len(times), max(times)\n",
    "\n",
    "def run_timings(n):\n",
    "    data = make_list(n)\n",
    "    a1, a2, a3 = data[:], data[:], data[:]\n",
    "    \n",
    "    time_repeated = compare_time(median_repeated_pass, a1, repeats=10)\n",
    "    time_mom = compare_time(median_of_medians, a2, repeats=10)\n",
    "    time_np = compare_time(median_numpy, a3, repeats=10)\n",
    "    \n",
    "    print(f\"Repeated linear passes: min = {time_repeated[0]:.4f}s, average = {time_repeated[1]:.4f}s, max = {time_repeated[2]:.4f}s\")\n",
    "    print(f\"Median of medians: min = {time_mom[0]:.6f}s, average = {time_mom[1]:.6f}s, max = {time_mom[2]:.6f}s\")\n",
    "    print(f\"Numpy median: min = {time_np[0]:.6f}s, average = {time_np[1]:.6f}s, max = {time_np[2]:.6f}s\")"
   ]
  },
  {
   "cell_type": "code",
   "execution_count": 197,
   "id": "e22513e7-b272-4ece-b02c-866bb4eaac8c",
   "metadata": {
    "editable": true,
    "slideshow": {
     "slide_type": ""
    },
    "tags": []
   },
   "outputs": [
    {
     "name": "stdout",
     "output_type": "stream",
     "text": [
      "Repeated linear passes: min = 1.8558s, average = 1.9128s, max = 1.9628s\n",
      "Median of medians: min = 0.008510s, average = 0.015311s, max = 0.045331s\n",
      "Numpy median: min = 0.000549s, average = 0.000615s, max = 0.000791s\n"
     ]
    }
   ],
   "source": [
    "run_timings(20000)"
   ]
  },
  {
   "cell_type": "markdown",
   "id": "e9f57708-1909-4589-9b82-a25f4175bfff",
   "metadata": {
    "editable": true,
    "slideshow": {
     "slide_type": ""
    },
    "tags": []
   },
   "source": [
    "---"
   ]
  },
  {
   "cell_type": "markdown",
   "id": "ebc59230-964f-4734-bab4-7dc44f9215c9",
   "metadata": {
    "editable": true,
    "slideshow": {
     "slide_type": ""
    },
    "tags": []
   },
   "source": [
    "# Question 4: Gradient of a Function"
   ]
  },
  {
   "cell_type": "markdown",
   "id": "416e53c2-bf51-4bb7-8090-201f4acb87e2",
   "metadata": {
    "editable": true,
    "slideshow": {
     "slide_type": ""
    },
    "tags": []
   },
   "source": [
    "### Calculation\n",
    "\n",
    "We are given:\n",
    "\n",
    "$$f(x, y) = x^2y + y^3sinx$$\n",
    "\n",
    "We first need to calculate the partial derivatives with respect to $x$ and $y$.\n",
    "\n",
    "- With respect to $x$:\n",
    "\n",
    "  $$\n",
    "  \\frac{\\partial f}{\\partial x}\n",
    "  = \\frac{\\partial}{\\partial x}\\big[(x^2)y\\big] + \\frac{\\partial}{\\partial x}\\big[(y^3)\\sin x\\big]\n",
    "  = 2xy + y^3\\cos x\n",
    "  $$\n",
    "\n",
    "- With respect to $y$:\n",
    "\n",
    "  $$\n",
    "  \\frac{\\partial f}{\\partial y}\n",
    "  = \\frac{\\partial}{\\partial y}\\big[(x^2)y\\big] + \\frac{\\partial}{\\partial y}\\big[(y^3)\\sin x\\big]\n",
    "  = x^2 + 3y^2\\sin x\n",
    "  $$\n",
    "\n",
    "\n",
    "Now, we can define the gradient like so:\n",
    "\n",
    "$$\\nabla f(x,y) = \\big[2xy + y^3\\cos x,\\; x^2 + 3y^2\\sin x\\big]$$\n",
    "\n",
    "---"
   ]
  },
  {
   "cell_type": "markdown",
   "id": "d39c8a41-6867-44d4-961a-f5c61f4aae0b",
   "metadata": {
    "editable": true,
    "slideshow": {
     "slide_type": ""
    },
    "tags": []
   },
   "source": [
    "# Question 5: Gradient Verification using JAX"
   ]
  },
  {
   "cell_type": "markdown",
   "id": "312bb74d-cc4c-47d2-95c1-e5ea0ca9a504",
   "metadata": {
    "editable": true,
    "slideshow": {
     "slide_type": ""
    },
    "tags": []
   },
   "source": [
    "We use `JAX` to compute $\\nabla f(x,y)$ via automatic differentiation and compare it to the analytical result from the previous question on a few random $(x,y)$ pairs."
   ]
  },
  {
   "cell_type": "markdown",
   "id": "90bff840-c84c-483d-a831-4db6f6dc10d8",
   "metadata": {
    "editable": true,
    "slideshow": {
     "slide_type": ""
    },
    "tags": []
   },
   "source": [
    "### Python Code"
   ]
  },
  {
   "cell_type": "code",
   "execution_count": 221,
   "id": "2b3ecd14-10ef-4029-a6e5-533d4c1cb472",
   "metadata": {
    "editable": true,
    "slideshow": {
     "slide_type": ""
    },
    "tags": []
   },
   "outputs": [
    {
     "name": "stdout",
     "output_type": "stream",
     "text": [
      "\u001b[31mERROR: pip's dependency resolver does not currently take into account all the packages that are installed. This behaviour is the source of the following dependency conflicts.\n",
      "gensim 4.3.0 requires FuzzyTM>=0.4.0, which is not installed.\u001b[0m\u001b[31m\n",
      "\u001b[0m"
     ]
    }
   ],
   "source": [
    "!pip install -q jax jaxlib"
   ]
  },
  {
   "cell_type": "code",
   "execution_count": 225,
   "id": "27dc20cd-4621-45b0-88e0-940b6e89d082",
   "metadata": {
    "editable": true,
    "slideshow": {
     "slide_type": ""
    },
    "tags": []
   },
   "outputs": [],
   "source": [
    "import jax\n",
    "import jax.numpy as jnp\n",
    "import math\n",
    "\n",
    "def grad_fx(x, y):\n",
    "    return 2 * x * y + (y ** 3) * math.cos(x)\n",
    "\n",
    "def grad_fy(x, y):\n",
    "    return x ** 2 + 3 * (y ** 2) * math.sin(x)\n",
    "\n",
    "def f(x, y):\n",
    "    return (x ** 2) * y + (y ** 3) * jnp.sin(x)"
   ]
  },
  {
   "cell_type": "code",
   "execution_count": 227,
   "id": "19ed5ac8-62f9-49e3-a59a-d5e3b825708d",
   "metadata": {
    "editable": true,
    "slideshow": {
     "slide_type": ""
    },
    "tags": []
   },
   "outputs": [],
   "source": [
    "grad_f = jax.grad(f, argnums=(0, 1))\n",
    "\n",
    "random.seed(0)\n",
    "samples = [(random.uniform(-2.0, 2.0), random.uniform(-2.0, 2.0)) for _ in range(5)]"
   ]
  },
  {
   "cell_type": "code",
   "execution_count": 255,
   "id": "cd8760ce-7a95-4901-b037-aa724043cc74",
   "metadata": {
    "editable": true,
    "slideshow": {
     "slide_type": ""
    },
    "tags": []
   },
   "outputs": [
    {
     "name": "stdout",
     "output_type": "stream",
     "text": [
      "JAX vs Analytical gradient comparisons:\n",
      "\n",
      "(x=+1.3777, y=+1.0318)  df/dx: JAX=+3.053863, Analytic=+3.053863  |  df/dy: JAX=+5.032597, Analytic=+5.032597\n",
      "(x=-0.3177, y=-0.9643)  df/dx: JAX=-0.239125, Analytic=-0.239125  |  df/dy: JAX=-0.770584, Analytic=-0.770583\n",
      "(x=+0.0451, y=-0.3803)  df/dx: JAX=-0.089229, Analytic=-0.089229  |  df/dy: JAX=+0.021591, Analytic=+0.021591\n",
      "(x=+1.1352, y=-0.7867)  df/dx: JAX=-1.991709, Analytic=-1.991709  |  df/dy: JAX=+2.972182, Analytic=+2.972182\n",
      "(x=-0.0936, y=+0.3335)  df/dx: JAX=-0.025505, Analytic=-0.025505  |  df/dy: JAX=-0.022432, Analytic=-0.022432\n"
     ]
    }
   ],
   "source": [
    "print(\"JAX vs Analytical gradient comparisons:\\n\")\n",
    "\n",
    "for x, y in samples:\n",
    "    gx_j, gy_j = grad_f(jnp.float64(x), jnp.float64(y))\n",
    "    gx_a = grad_fx(x, y)\n",
    "    gy_a = grad_fy(x, y)\n",
    "    print(f\"(x={x:+.4f}, y={y:+.4f})  \"\n",
    "          f\"df/dx: JAX={float(gx_j):+.6f}, Analytic={gx_a:+.6f}  |  \"\n",
    "          f\"df/dy: JAX={float(gy_j):+.6f}, Analytic={gy_a:+.6f}\")"
   ]
  },
  {
   "cell_type": "markdown",
   "id": "80bc8069-6a59-4092-b224-ec9637ce6800",
   "metadata": {
    "editable": true,
    "slideshow": {
     "slide_type": ""
    },
    "tags": []
   },
   "source": [
    "---"
   ]
  },
  {
   "cell_type": "markdown",
   "id": "67f13739-bd10-4cb8-a6c0-69292929d2dd",
   "metadata": {
    "editable": true,
    "slideshow": {
     "slide_type": ""
    },
    "tags": []
   },
   "source": [
    "# Question 6: Symbolic Gradient Verification using SymPy"
   ]
  },
  {
   "cell_type": "markdown",
   "id": "e4796df0-d972-447d-b934-c11fd4bb0946",
   "metadata": {
    "editable": true,
    "slideshow": {
     "slide_type": ""
    },
    "tags": []
   },
   "source": [
    "We will compute $\\frac{\\partial f}{\\partial x}$ and $\\frac{\\partial f}{\\partial y}$ using SymPy."
   ]
  },
  {
   "cell_type": "markdown",
   "id": "c54f8976-98d6-40dc-825f-2bfe5de8e9c4",
   "metadata": {
    "editable": true,
    "slideshow": {
     "slide_type": ""
    },
    "tags": []
   },
   "source": [
    "### Python Code"
   ]
  },
  {
   "cell_type": "code",
   "execution_count": 247,
   "id": "b7f8eb91-f45e-4801-a2f9-a672734845fc",
   "metadata": {
    "editable": true,
    "slideshow": {
     "slide_type": ""
    },
    "tags": []
   },
   "outputs": [],
   "source": [
    "!pip install -q sympy"
   ]
  },
  {
   "cell_type": "code",
   "execution_count": 251,
   "id": "b8cd8124-b81b-4413-8961-555820d432da",
   "metadata": {
    "editable": true,
    "slideshow": {
     "slide_type": ""
    },
    "tags": []
   },
   "outputs": [
    {
     "name": "stdout",
     "output_type": "stream",
     "text": [
      "SymPy df/dx: y*(2*x + y**2*cos(x))\n",
      "SymPy df/dy: x**2 + 3*y**2*sin(x)\n",
      "Match df/dx? -> True\n",
      "Match df/dy? -> True\n"
     ]
    }
   ],
   "source": [
    "import sympy as sp\n",
    "\n",
    "x, y = sp.symbols('x y', real=True)\n",
    "f = (x ** 2) * y + (y ** 3) * sp.sin(x)\n",
    "\n",
    "# Symbolic partial derivatives\n",
    "df_dx = sp.diff(f, x)\n",
    "df_dy = sp.diff(f, y)\n",
    "\n",
    "print(\"SymPy df/dx:\", sp.simplify(df_dx))\n",
    "print(\"SymPy df/dy:\", sp.simplify(df_dy))\n",
    "\n",
    "# Expected (from Q4)\n",
    "df_dx_expected = 2 * x * y + (y ** 3) * sp.cos(x)\n",
    "df_dy_expected = x ** 2 + 3 * (y ** 2) * sp.sin(x)\n",
    "\n",
    "print(\"Match df/dx? ->\", sp.simplify(df_dx - df_dx_expected) == 0)\n",
    "print(\"Match df/dy? ->\", sp.simplify(df_dy - df_dy_expected) == 0)"
   ]
  },
  {
   "cell_type": "markdown",
   "id": "817dbfcd-5f0c-4918-84b0-cbf7f0f1b166",
   "metadata": {
    "editable": true,
    "slideshow": {
     "slide_type": ""
    },
    "tags": []
   },
   "source": [
    "---"
   ]
  },
  {
   "cell_type": "markdown",
   "id": "143b2c52-a247-44bf-a674-b430deb8e92a",
   "metadata": {
    "editable": true,
    "raw_mimetype": "",
    "slideshow": {
     "slide_type": ""
    },
    "tags": []
   },
   "source": [
    "# Question 7: Nested Dictionary"
   ]
  },
  {
   "cell_type": "markdown",
   "id": "0381bcd3-0b6c-43f7-b99c-13ad517a4ed6",
   "metadata": {
    "editable": true,
    "slideshow": {
     "slide_type": ""
    },
    "tags": []
   },
   "source": [
    "We need to represnt the given hierarchical data of students in a python dictionary."
   ]
  },
  {
   "cell_type": "code",
   "execution_count": 260,
   "id": "4189f9a6-a8b4-4507-8457-00f31f536f34",
   "metadata": {
    "editable": true,
    "slideshow": {
     "slide_type": ""
    },
    "tags": []
   },
   "outputs": [],
   "source": [
    "students = {\n",
    "    2022: {\n",
    "        \"Branch 1\": [\n",
    "            {\n",
    "                \"Roll Number\": 1,\n",
    "                \"Name\": \"Mayank\",\n",
    "                \"Marks\": {\n",
    "                    \"Maths\": 100,\n",
    "                    \"English\": 70,\n",
    "                    \"Science\": 85\n",
    "                }\n",
    "            }\n",
    "        ],\n",
    "        \"Branch 2\": []\n",
    "    },\n",
    "    2023: {\n",
    "        \"Branch 1\": [],\n",
    "        \"Branch 2\": []\n",
    "    },\n",
    "    2024: {\n",
    "        \"Branch 1\": [],\n",
    "        \"Branch 2\": []\n",
    "    },\n",
    "    2025: {\n",
    "        \"Branch 1\": [],\n",
    "        \"Branch 2\": []\n",
    "    }\n",
    "}"
   ]
  },
  {
   "cell_type": "markdown",
   "id": "4083733e-3cdf-4f51-85d8-410eecd78254",
   "metadata": {
    "editable": true,
    "slideshow": {
     "slide_type": ""
    },
    "tags": []
   },
   "source": [
    "We can now pretty print the dictionary to view the data."
   ]
  },
  {
   "cell_type": "code",
   "execution_count": 277,
   "id": "e8d490bc-4519-4ebe-a1aa-f5435ad1a926",
   "metadata": {
    "editable": true,
    "slideshow": {
     "slide_type": ""
    },
    "tags": []
   },
   "outputs": [
    {
     "name": "stdout",
     "output_type": "stream",
     "text": [
      "{2022: {'Branch 1': [{'Marks': {'English': 70, 'Maths': 100, 'Science': 85},\n",
      "                      'Name': 'Mayank',\n",
      "                      'Roll Number': 1}],\n",
      "        'Branch 2': []},\n",
      " 2023: {'Branch 1': [], 'Branch 2': []},\n",
      " 2024: {'Branch 1': [], 'Branch 2': []},\n",
      " 2025: {'Branch 1': [], 'Branch 2': []}}\n"
     ]
    }
   ],
   "source": [
    "from pprint import pprint\n",
    "\n",
    "pprint(students)"
   ]
  },
  {
   "cell_type": "markdown",
   "id": "3f26b828-3359-436c-b997-f9b2cc9b94d0",
   "metadata": {
    "editable": true,
    "slideshow": {
     "slide_type": ""
    },
    "tags": []
   },
   "source": [
    "---"
   ]
  },
  {
   "cell_type": "markdown",
   "id": "0e802e97-7405-4630-ae14-215aa3e825d6",
   "metadata": {
    "editable": true,
    "slideshow": {
     "slide_type": ""
    },
    "tags": []
   },
   "source": [
    "# Question 8: Implementing Data using Classes"
   ]
  },
  {
   "cell_type": "markdown",
   "id": "233d2a50-fcff-40a7-a9a9-f101ec03b927",
   "metadata": {
    "editable": true,
    "slideshow": {
     "slide_type": ""
    },
    "tags": []
   },
   "source": [
    "We will first implement the structure of the data using python classes"
   ]
  },
  {
   "cell_type": "code",
   "execution_count": 282,
   "id": "848f484c-eb21-4dd9-9678-f2df3089c7c5",
   "metadata": {
    "editable": true,
    "slideshow": {
     "slide_type": ""
    },
    "tags": []
   },
   "outputs": [],
   "source": [
    "from typing import Dict, List\n",
    "\n",
    "class Student:\n",
    "    roll_number: int\n",
    "    name: str\n",
    "    marks: Dict[str, float]\n",
    "\n",
    "class Branch:\n",
    "    name: str\n",
    "    students: List[Student]\n",
    "\n",
    "class Year:\n",
    "    year: int\n",
    "    branches: List[Branch]\n",
    "\n",
    "class Database:\n",
    "    years: List[Year]"
   ]
  },
  {
   "cell_type": "markdown",
   "id": "eaac1ed9-fd5d-4d73-8d4c-131abbe69027",
   "metadata": {
    "editable": true,
    "slideshow": {
     "slide_type": ""
    },
    "tags": []
   },
   "source": [
    "We can create variables to store the data of the students"
   ]
  },
  {
   "cell_type": "markdown",
   "id": "cddc47b5-14d9-4f22-a03f-91ac58e9bba3",
   "metadata": {
    "editable": true,
    "slideshow": {
     "slide_type": ""
    },
    "tags": []
   },
   "source": [
    "s1 = Student()\n",
    "s1.roll_number = 1\n",
    "s1.name = \"Mayank\"\n",
    "s1.marks = {\"Maths\": 100, \"English\": 70, \"Science\": 85}\n",
    "\n",
    "b1_2022 = Branch()\n",
    "b1_2022.name = \"Branch 1\"\n",
    "b1_2022.students = [s1]\n",
    "\n",
    "b2_2022 = Branch()\n",
    "b2_2022.name = \"Branch 2\"\n",
    "b2_2022.students = []\n",
    "\n",
    "b1_2023 = Branch()\n",
    "b1_2023.name = \"Branch 1\"\n",
    "b1_2023.students = []\n",
    "\n",
    "b2_2023 = Branch()\n",
    "b2_2023.name = \"Branch 2\"\n",
    "b2_2023.students = []\n",
    "\n",
    "b1_2024 = Branch()\n",
    "b1_2024.name = \"Branch 1\"\n",
    "b1_2024.students = []\n",
    "\n",
    "b2_2024 = Branch()\n",
    "b2_2024.name = \"Branch 2\"\n",
    "b2_2024.students = []\n",
    "\n",
    "b1_2025 = Branch()\n",
    "b1_2025.name = \"Branch 1\"\n",
    "b1_2025.students = []\n",
    "\n",
    "b2_2025 = Branch()\n",
    "b2_2025.name = \"Branch 2\"\n",
    "b2_2025.students = []\n",
    "\n",
    "y_2022 = Year()\n",
    "y_2022.year = 2022\n",
    "y_2022.branches = [b1_2022, b2_2022]\n",
    "\n",
    "y_2023 = Year()\n",
    "y_2023.year = 2023\n",
    "y_2023.branches = [b1_2023, b2_2023]\n",
    "\n",
    "y_2024 = Year()\n",
    "y_2024.year = 2024\n",
    "y_2024.branches = [b1_2024, b2_2024]\n",
    "\n",
    "y_2025 = Year()\n",
    "y_2025.year = 2025\n",
    "y_2025.branches = [b1_2025, b2_2025]\n",
    "\n",
    "db = Database()\n",
    "db.years = [y_2022, y_2023, y_2024, y_2025]"
   ]
  },
  {
   "cell_type": "markdown",
   "id": "7971e553-20c2-43ce-98ae-6b58bc2f0329",
   "metadata": {
    "editable": true,
    "slideshow": {
     "slide_type": ""
    },
    "tags": []
   },
   "source": [
    "---"
   ]
  },
  {
   "cell_type": "markdown",
   "id": "36a01321-4e6c-41ce-92f4-26cefb58bf4e",
   "metadata": {
    "editable": true,
    "slideshow": {
     "slide_type": ""
    },
    "tags": []
   },
   "source": [
    "# Question 9: Plotting Functions"
   ]
  },
  {
   "cell_type": "markdown",
   "id": "a18b220a-7a31-402c-985a-f5befc511559",
   "metadata": {
    "editable": true,
    "slideshow": {
     "slide_type": ""
    },
    "tags": []
   },
   "source": [
    "We need to plot the given functions on the domain $x = 0.5$ to $100.0$ in steps of $0.5$"
   ]
  },
  {
   "cell_type": "code",
   "execution_count": 304,
   "id": "48000650-349e-4a8f-ab1c-9b3c310f3986",
   "metadata": {
    "editable": true,
    "slideshow": {
     "slide_type": ""
    },
    "tags": []
   },
   "outputs": [],
   "source": [
    "import numpy as np\n",
    "import matplotlib.pyplot as plt\n",
    "\n",
    "x = np.arange(0.5, 100.1, 0.5)"
   ]
  },
  {
   "cell_type": "markdown",
   "id": "2f952543-b8da-4b2f-aa6e-145337fd0dd2",
   "metadata": {
    "editable": true,
    "slideshow": {
     "slide_type": ""
    },
    "tags": []
   },
   "source": [
    "1. $y = x$"
   ]
  },
  {
   "cell_type": "code",
   "execution_count": 325,
   "id": "0706632a-a528-4824-8c96-22c959461f53",
   "metadata": {
    "editable": true,
    "slideshow": {
     "slide_type": ""
    },
    "tags": []
   },
   "outputs": [
    {
     "data": {
      "image/png": "[encoded data removed]",
      "text/plain": [
       "<Figure size 640x480 with 1 Axes>"
      ]
     },
     "metadata": {},
     "output_type": "display_data"
    }
   ],
   "source": [
    "y = x\n",
    "\n",
    "plt.figure()\n",
    "\n",
    "plt.plot(x, y, label=r\"$y = x$\")\n",
    "\n",
    "plt.xlabel(\"x\")\n",
    "plt.ylabel(\"y\")\n",
    "\n",
    "plt.title(r\"$y = x$\")\n",
    "\n",
    "plt.legend()\n",
    "plt.grid(True)\n",
    "plt.show()"
   ]
  },
  {
   "cell_type": "markdown",
   "id": "e9211dd6-f601-457f-97d1-3104634e666c",
   "metadata": {
    "editable": true,
    "slideshow": {
     "slide_type": ""
    },
    "tags": []
   },
   "source": [
    "2. $y = x^2$"
   ]
  },
  {
   "cell_type": "code",
   "execution_count": 323,
   "id": "01837c5d-e68a-462b-9b5b-c03dc9209526",
   "metadata": {
    "editable": true,
    "slideshow": {
     "slide_type": ""
    },
    "tags": []
   },
   "outputs": [
    {
     "data": {
      "image/png": "[encoded data removed]",
      "text/plain": [
       "<Figure size 640x480 with 1 Axes>"
      ]
     },
     "metadata": {},
     "output_type": "display_data"
    }
   ],
   "source": [
    "y = x ** 2\n",
    "\n",
    "plt.figure()\n",
    "\n",
    "plt.plot(x, y, label=r\"$y = x^2$\")\n",
    "\n",
    "plt.xlabel(\"x\")\n",
    "plt.ylabel(\"y\")\n",
    "\n",
    "plt.title(r\"$y = x^2$\")\n",
    "\n",
    "plt.legend()\n",
    "plt.grid(True)\n",
    "plt.show()"
   ]
  },
  {
   "cell_type": "markdown",
   "id": "08a2833d-f97a-4d49-877b-08445a82c3d3",
   "metadata": {
    "editable": true,
    "slideshow": {
     "slide_type": ""
    },
    "tags": []
   },
   "source": [
    "3. $y = \\frac{x^3}{100}$"
   ]
  },
  {
   "cell_type": "code",
   "execution_count": 334,
   "id": "9a650d7e-cb72-431e-b6c6-019c71e96ff2",
   "metadata": {
    "editable": true,
    "slideshow": {
     "slide_type": ""
    },
    "tags": []
   },
   "outputs": [
    {
     "data": {
      "image/png": "[encoded data removed]",
      "text/plain": [
       "<Figure size 640x480 with 1 Axes>"
      ]
     },
     "metadata": {},
     "output_type": "display_data"
    }
   ],
   "source": [
    "y = x ** 3 / 100\n",
    "\n",
    "plt.figure()\n",
    "\n",
    "plt.plot(x, y, label=r\"$y = \\frac{x^3}{100}$\")\n",
    "\n",
    "plt.xlabel(\"x\")\n",
    "plt.ylabel(\"y\")\n",
    "\n",
    "plt.title(r\"$y = \\frac{x^3}{100}$\")\n",
    "\n",
    "plt.legend()\n",
    "plt.grid(True)\n",
    "plt.show()"
   ]
  },
  {
   "cell_type": "markdown",
   "id": "3bf62dd4-05cb-4b7f-abb3-f5413ef5330a",
   "metadata": {
    "editable": true,
    "slideshow": {
     "slide_type": ""
    },
    "tags": []
   },
   "source": [
    "4. $y = \\sin(x)$"
   ]
  },
  {
   "cell_type": "code",
   "execution_count": 337,
   "id": "daadbc19-acc9-4111-a187-f7fb33cb6607",
   "metadata": {
    "editable": true,
    "slideshow": {
     "slide_type": ""
    },
    "tags": []
   },
   "outputs": [
    {
     "data": {
      "image/png": "[encoded data removed]",
      "text/plain": [
       "<Figure size 640x480 with 1 Axes>"
      ]
     },
     "metadata": {},
     "output_type": "display_data"
    }
   ],
   "source": [
    "y = np.sin(x)\n",
    "\n",
    "plt.figure()\n",
    "plt.plot(x, y, label=r\"$y = \\sin(x)$\")\n",
    "\n",
    "plt.xlabel(\"x\")\n",
    "plt.ylabel(\"y\")\n",
    "\n",
    "plt.title(r\"$y = \\sin(x)$\")\n",
    "\n",
    "plt.legend()\n",
    "plt.grid(True)\n",
    "plt.show()"
   ]
  },
  {
   "cell_type": "markdown",
   "id": "93da8792-4967-4f27-97fb-1a1e067ab689",
   "metadata": {
    "editable": true,
    "slideshow": {
     "slide_type": ""
    },
    "tags": []
   },
   "source": [
    "5. $y = \\frac{\\sin(x)}{x}$"
   ]
  },
  {
   "cell_type": "code",
   "execution_count": 343,
   "id": "8db4b418-4003-462b-b3df-d99a331bc7ce",
   "metadata": {
    "editable": true,
    "slideshow": {
     "slide_type": ""
    },
    "tags": []
   },
   "outputs": [
    {
     "data": {
      "image/png": "[encoded data removed]",
      "text/plain": [
       "<Figure size 640x480 with 1 Axes>"
      ]
     },
     "metadata": {},
     "output_type": "display_data"
    }
   ],
   "source": [
    "y = np.sin(x) / x\n",
    "\n",
    "plt.figure()\n",
    "plt.plot(x, y, label=r\"$y = \\frac{\\sin(x)}{x}$\")\n",
    "\n",
    "plt.xlabel(\"x\")\n",
    "plt.ylabel(\"y\")\n",
    "\n",
    "plt.title(r\"$y = \\frac{\\sin(x)}{x}$\")\n",
    "\n",
    "plt.legend()\n",
    "plt.grid(True)\n",
    "plt.show()"
   ]
  },
  {
   "cell_type": "markdown",
   "id": "9eb361c5-114e-47b4-9ff9-5c07c85c6d78",
   "metadata": {
    "editable": true,
    "slideshow": {
     "slide_type": ""
    },
    "tags": []
   },
   "source": [
    "6. $y = \\log(x)$"
   ]
  },
  {
   "cell_type": "code",
   "execution_count": 347,
   "id": "a83dbdc0-445f-4446-8484-00c76348857f",
   "metadata": {
    "editable": true,
    "slideshow": {
     "slide_type": ""
    },
    "tags": []
   },
   "outputs": [
    {
     "data": {
      "image/png": "[encoded data removed]",
      "text/plain": [
       "<Figure size 640x480 with 1 Axes>"
      ]
     },
     "metadata": {},
     "output_type": "display_data"
    }
   ],
   "source": [
    "y = np.log(x)\n",
    "\n",
    "plt.figure()\n",
    "plt.plot(x, y, label=r\"$y = \\log(x)$\")\n",
    "\n",
    "plt.xlabel(\"x\")\n",
    "plt.ylabel(\"y\")\n",
    "\n",
    "plt.title(r\"$y = \\log(x)$\")\n",
    "\n",
    "plt.legend()\n",
    "plt.grid(True)\n",
    "plt.show()"
   ]
  },
  {
   "cell_type": "markdown",
   "id": "13c91c6f-2c46-47b0-a457-17e32ca56377",
   "metadata": {
    "editable": true,
    "slideshow": {
     "slide_type": ""
    },
    "tags": []
   },
   "source": [
    "7. $y = e^x$"
   ]
  },
  {
   "cell_type": "code",
   "execution_count": 352,
   "id": "c44e6b93-60be-404e-8dd1-387ab0f067e0",
   "metadata": {
    "editable": true,
    "slideshow": {
     "slide_type": ""
    },
    "tags": []
   },
   "outputs": [
    {
     "data": {
      "image/png": "[encoded data removed]",
      "text/plain": [
       "<Figure size 640x480 with 1 Axes>"
      ]
     },
     "metadata": {},
     "output_type": "display_data"
    }
   ],
   "source": [
    "y = np.exp(x)\n",
    "\n",
    "plt.figure()\n",
    "plt.plot(x, y, label=r\"$y = e^x$\")\n",
    "\n",
    "plt.xlabel(\"x\")\n",
    "plt.ylabel(\"y\")\n",
    "\n",
    "plt.title(r\"$y = e^x$\")\n",
    "\n",
    "plt.legend()\n",
    "plt.grid(True)\n",
    "plt.show()"
   ]
  },
  {
   "cell_type": "markdown",
   "id": "57b62b3a-1835-4a33-9127-ae25b3fcdffc",
   "metadata": {
    "editable": true,
    "slideshow": {
     "slide_type": ""
    },
    "tags": []
   },
   "source": [
    "---"
   ]
  },
  {
   "cell_type": "markdown",
   "id": "bc05ce68-f591-4301-b1ab-2af72273bd50",
   "metadata": {
    "editable": true,
    "raw_mimetype": "",
    "slideshow": {
     "slide_type": ""
    },
    "tags": []
   },
   "source": [
    "# Question 10: Matrix and Dataframe Manipulation"
   ]
  },
  {
   "cell_type": "markdown",
   "id": "fc7395e5-fa9a-44e3-aa24-ec3cbf10ce4f",
   "metadata": {
    "editable": true,
    "slideshow": {
     "slide_type": ""
    },
    "tags": []
   },
   "source": [
    "First, we generate a `20x5` matrix of random numbers drawn uniformly from $[1,2]$."
   ]
  },
  {
   "cell_type": "code",
   "execution_count": 357,
   "id": "e93ffb88-71ca-46dc-848f-a3b115d63390",
   "metadata": {
    "editable": true,
    "slideshow": {
     "slide_type": ""
    },
    "tags": []
   },
   "outputs": [
    {
     "name": "stdout",
     "output_type": "stream",
     "text": [
      "[[1.84039261 1.65562116 1.42180832 1.68052457 1.70213282]\n",
      " [1.19744419 1.19038113 1.63481652 1.43105406 1.57793792]\n",
      " [1.00743924 1.84563311 1.4332643  1.40485279 1.05851687]\n",
      " [1.48578803 1.88500433 1.23761718 1.79527493 1.4546264 ]\n",
      " [1.14124516 1.88563601 1.59779319 1.19251956 1.21686454]\n",
      " [1.53862667 1.97222552 1.02447972 1.22426753 1.33253394]\n",
      " [1.64384532 1.57773582 1.54026717 1.29859632 1.89638082]\n",
      " [1.9998493  1.85210494 1.38269647 1.60744149 1.45689875]\n",
      " [1.36951084 1.08162248 1.44102021 1.27849113 1.32257937]\n",
      " [1.16133745 1.42916231 1.06356096 1.3424603  1.69287451]\n",
      " [1.64159697 1.43410388 1.85068035 1.60419957 1.05575994]\n",
      " [1.30240599 1.96693172 1.98067996 1.97056499 1.5765268 ]\n",
      " [1.61206363 1.48946676 1.12254802 1.15131172 1.9691272 ]\n",
      " [1.77946494 1.92427997 1.54560855 1.3309247  1.86283191]\n",
      " [1.70585363 1.61504015 1.7620481  1.25960856 1.80639945]\n",
      " [1.09013098 1.25236763 1.28496905 1.56155117 1.33506933]\n",
      " [1.54122468 1.02355083 1.52134755 1.54390356 1.33034609]\n",
      " [1.1787324  1.09234107 1.82978043 1.84389408 1.15679731]\n",
      " [1.48870313 1.91272785 1.13732778 1.00152753 1.22666605]\n",
      " [1.35854295 1.79155557 1.02737693 1.65354461 1.64095125]]\n"
     ]
    }
   ],
   "source": [
    "import numpy as np\n",
    "\n",
    "matrix = np.random.uniform(1, 2, size=(20, 5))\n",
    "print(matrix)"
   ]
  },
  {
   "cell_type": "markdown",
   "id": "33052dd7-0d17-42a4-aa52-c9855fd54c6e",
   "metadata": {
    "editable": true,
    "slideshow": {
     "slide_type": ""
    },
    "tags": []
   },
   "source": [
    "Next, we create a dataframe using this matrix."
   ]
  },
  {
   "cell_type": "code",
   "execution_count": 360,
   "id": "a3fff45f-6be7-4a86-8a5c-cbbee097cfc7",
   "metadata": {
    "editable": true,
    "slideshow": {
     "slide_type": ""
    },
    "tags": []
   },
   "outputs": [
    {
     "name": "stdout",
     "output_type": "stream",
     "text": [
      "           a         b         c         d         e\n",
      "0   1.840393  1.655621  1.421808  1.680525  1.702133\n",
      "1   1.197444  1.190381  1.634817  1.431054  1.577938\n",
      "2   1.007439  1.845633  1.433264  1.404853  1.058517\n",
      "3   1.485788  1.885004  1.237617  1.795275  1.454626\n",
      "4   1.141245  1.885636  1.597793  1.192520  1.216865\n",
      "5   1.538627  1.972226  1.024480  1.224268  1.332534\n",
      "6   1.643845  1.577736  1.540267  1.298596  1.896381\n",
      "7   1.999849  1.852105  1.382696  1.607441  1.456899\n",
      "8   1.369511  1.081622  1.441020  1.278491  1.322579\n",
      "9   1.161337  1.429162  1.063561  1.342460  1.692875\n",
      "10  1.641597  1.434104  1.850680  1.604200  1.055760\n",
      "11  1.302406  1.966932  1.980680  1.970565  1.576527\n",
      "12  1.612064  1.489467  1.122548  1.151312  1.969127\n",
      "13  1.779465  1.924280  1.545609  1.330925  1.862832\n",
      "14  1.705854  1.615040  1.762048  1.259609  1.806399\n",
      "15  1.090131  1.252368  1.284969  1.561551  1.335069\n",
      "16  1.541225  1.023551  1.521348  1.543904  1.330346\n",
      "17  1.178732  1.092341  1.829780  1.843894  1.156797\n",
      "18  1.488703  1.912728  1.137328  1.001528  1.226666\n",
      "19  1.358543  1.791556  1.027377  1.653545  1.640951\n"
     ]
    }
   ],
   "source": [
    "import pandas as pd\n",
    "\n",
    "df = pd.DataFrame(matrix, columns=[\"a\", \"b\", \"c\", \"d\", \"e\"])\n",
    "print(df)"
   ]
  },
  {
   "cell_type": "markdown",
   "id": "a7d054fa-4e8d-4a01-be67-822467322840",
   "metadata": {
    "editable": true,
    "slideshow": {
     "slide_type": ""
    },
    "tags": []
   },
   "source": [
    "We now find the column with the highest standard deviation."
   ]
  },
  {
   "cell_type": "code",
   "execution_count": 363,
   "id": "d04acf9a-0021-41b7-929c-69ffa43570a6",
   "metadata": {
    "editable": true,
    "slideshow": {
     "slide_type": ""
    },
    "tags": []
   },
   "outputs": [
    {
     "name": "stdout",
     "output_type": "stream",
     "text": [
      "b\n"
     ]
    }
   ],
   "source": [
    "col_max_std = df.std().idxmax()\n",
    "print(col_max_std)"
   ]
  },
  {
   "cell_type": "markdown",
   "id": "c125d147-d226-4098-ada5-8f45b399fa74",
   "metadata": {
    "editable": true,
    "slideshow": {
     "slide_type": ""
    },
    "tags": []
   },
   "source": [
    "Similarly, we can find the row with the lowest mean."
   ]
  },
  {
   "cell_type": "code",
   "execution_count": 366,
   "id": "e4838cbc-7e5f-4714-a4b1-f34851f646dc",
   "metadata": {
    "editable": true,
    "slideshow": {
     "slide_type": ""
    },
    "tags": []
   },
   "outputs": [
    {
     "name": "stdout",
     "output_type": "stream",
     "text": [
      "8\n"
     ]
    }
   ],
   "source": [
    "row_min_mean = df.mean(axis=1).idxmin()\n",
    "print(row_min_mean)"
   ]
  },
  {
   "cell_type": "markdown",
   "id": "19ceed8c-1583-48ab-b72d-077db016899b",
   "metadata": {
    "editable": true,
    "slideshow": {
     "slide_type": ""
    },
    "tags": []
   },
   "source": [
    "---"
   ]
  },
  {
   "cell_type": "markdown",
   "id": "16322d20-ba5e-40b3-8882-c4c23b716ccf",
   "metadata": {
    "editable": true,
    "slideshow": {
     "slide_type": ""
    },
    "tags": []
   },
   "source": [
    "# Question 11: Manipulating the Dataframe"
   ]
  },
  {
   "cell_type": "markdown",
   "id": "8315f605-6c51-42e2-84e2-cefbe5ca608a",
   "metadata": {
    "editable": true,
    "slideshow": {
     "slide_type": ""
    },
    "tags": []
   },
   "source": [
    "First, we add a new column `f` to the dataframe, which is the sum of the columns `a..e`."
   ]
  },
  {
   "cell_type": "code",
   "execution_count": 377,
   "id": "73bf0978-5921-42b6-8b82-697b409ec97e",
   "metadata": {
    "editable": true,
    "slideshow": {
     "slide_type": ""
    },
    "tags": []
   },
   "outputs": [],
   "source": [
    "df[\"f\"] = df[[\"a\", \"b\", \"c\", \"d\", \"e\"]].sum(axis=1)"
   ]
  },
  {
   "cell_type": "markdown",
   "id": "738e81f4-60d9-455d-8708-c4287adc39c5",
   "metadata": {
    "editable": true,
    "slideshow": {
     "slide_type": ""
    },
    "tags": []
   },
   "source": [
    "Next, we add a column `g` according to the specifications given in the question."
   ]
  },
  {
   "cell_type": "code",
   "execution_count": 381,
   "id": "3308c67d-91d3-4630-af4b-1bff4cc8d269",
   "metadata": {
    "editable": true,
    "slideshow": {
     "slide_type": ""
    },
    "tags": []
   },
   "outputs": [
    {
     "name": "stdout",
     "output_type": "stream",
     "text": [
      "           a         b         c         d         e         f    g\n",
      "0   1.840393  1.655621  1.421808  1.680525  1.702133  8.300479  GT8\n",
      "1   1.197444  1.190381  1.634817  1.431054  1.577938  7.031634  LT8\n",
      "2   1.007439  1.845633  1.433264  1.404853  1.058517  6.749706  LT8\n",
      "3   1.485788  1.885004  1.237617  1.795275  1.454626  7.858311  LT8\n",
      "4   1.141245  1.885636  1.597793  1.192520  1.216865  7.034058  LT8\n",
      "5   1.538627  1.972226  1.024480  1.224268  1.332534  7.092133  LT8\n",
      "6   1.643845  1.577736  1.540267  1.298596  1.896381  7.956825  LT8\n",
      "7   1.999849  1.852105  1.382696  1.607441  1.456899  8.298991  GT8\n",
      "8   1.369511  1.081622  1.441020  1.278491  1.322579  6.493224  LT8\n",
      "9   1.161337  1.429162  1.063561  1.342460  1.692875  6.689396  LT8\n",
      "10  1.641597  1.434104  1.850680  1.604200  1.055760  7.586341  LT8\n",
      "11  1.302406  1.966932  1.980680  1.970565  1.576527  8.797109  GT8\n",
      "12  1.612064  1.489467  1.122548  1.151312  1.969127  7.344517  LT8\n",
      "13  1.779465  1.924280  1.545609  1.330925  1.862832  8.443110  GT8\n",
      "14  1.705854  1.615040  1.762048  1.259609  1.806399  8.148950  GT8\n",
      "15  1.090131  1.252368  1.284969  1.561551  1.335069  6.524088  LT8\n",
      "16  1.541225  1.023551  1.521348  1.543904  1.330346  6.960373  LT8\n",
      "17  1.178732  1.092341  1.829780  1.843894  1.156797  7.101545  LT8\n",
      "18  1.488703  1.912728  1.137328  1.001528  1.226666  6.766952  LT8\n",
      "19  1.358543  1.791556  1.027377  1.653545  1.640951  7.471971  LT8\n"
     ]
    }
   ],
   "source": [
    "df[\"g\"] = np.where(df[\"f\"] < 8, \"LT8\", \"GT8\")\n",
    "print(df)"
   ]
  },
  {
   "cell_type": "markdown",
   "id": "8f186ba3-c531-4943-ac4d-1f592b8fe7bf",
   "metadata": {
    "editable": true,
    "slideshow": {
     "slide_type": ""
    },
    "tags": []
   },
   "source": [
    "We need to find the number of rows with the value `LT8` in the column `g`."
   ]
  },
  {
   "cell_type": "code",
   "execution_count": 387,
   "id": "b37c0225-49cd-4f05-8127-090388aa4808",
   "metadata": {
    "editable": true,
    "slideshow": {
     "slide_type": ""
    },
    "tags": []
   },
   "outputs": [
    {
     "name": "stdout",
     "output_type": "stream",
     "text": [
      "15\n"
     ]
    }
   ],
   "source": [
    "lt8_count = (df[\"g\"] == \"LT8\").sum()\n",
    "print(lt8_count)"
   ]
  },
  {
   "cell_type": "markdown",
   "id": "64486438-daba-4510-810c-8d7ea4309065",
   "metadata": {
    "editable": true,
    "slideshow": {
     "slide_type": ""
    },
    "tags": []
   },
   "source": [
    "Now we can find the standard deviation of the column `f` for the rows where the value in column `g` is `LT8`."
   ]
  },
  {
   "cell_type": "code",
   "execution_count": 391,
   "id": "3493ade0-4c33-4cea-a2f8-c3952d6ad15d",
   "metadata": {
    "editable": true,
    "slideshow": {
     "slide_type": ""
    },
    "tags": []
   },
   "outputs": [
    {
     "name": "stdout",
     "output_type": "stream",
     "text": [
      "0.45298931543204096\n"
     ]
    }
   ],
   "source": [
    "lt8_std = df.loc[df[\"g\"] == \"LT8\", \"f\"].std()\n",
    "print(lt8_std)"
   ]
  },
  {
   "cell_type": "markdown",
   "id": "10875b00-4d56-43d6-9eda-74ad1cc96676",
   "metadata": {
    "editable": true,
    "slideshow": {
     "slide_type": ""
    },
    "tags": []
   },
   "source": [
    "Similarly, we need to find the standard deviation of the column `f` for the rows where the value in column `g` is `GT8`."
   ]
  },
  {
   "cell_type": "code",
   "execution_count": 397,
   "id": "c712d3ac-23f1-4b00-ab43-687d2bfe3cdf",
   "metadata": {
    "editable": true,
    "slideshow": {
     "slide_type": ""
    },
    "tags": []
   },
   "outputs": [
    {
     "name": "stdout",
     "output_type": "stream",
     "text": [
      "0.24630363000597125\n"
     ]
    }
   ],
   "source": [
    "gt8_std = df.loc[df[\"g\"] == \"GT8\", \"f\"].std()\n",
    "print(gt8_std)"
   ]
  },
  {
   "cell_type": "markdown",
   "id": "b681f0d1-1fde-4a12-9139-343399e5f932",
   "metadata": {
    "editable": true,
    "slideshow": {
     "slide_type": ""
    },
    "tags": []
   },
   "source": [
    "---"
   ]
  },
  {
   "cell_type": "markdown",
   "id": "2cd1add0-36f1-4a43-be6c-246f660a903d",
   "metadata": {
    "editable": true,
    "slideshow": {
     "slide_type": ""
    },
    "tags": []
   },
   "source": [
    "# Question 12: Broadcasting in Numpy"
   ]
  },
  {
   "cell_type": "markdown",
   "id": "026f9168-57a5-4372-ae21-ac9de9b4ecad",
   "metadata": {
    "editable": true,
    "slideshow": {
     "slide_type": ""
    },
    "tags": []
   },
   "source": [
    "Broadcasting is numpy's way of performing arithmetic operations on arrays of different shapes, if either one of them can be expanded in a way to match the dimensions of the other one. The smaller array is automatically expanded across the larger one, along the axes of length 1 so that their shapes match."
   ]
  },
  {
   "cell_type": "markdown",
   "id": "c962ffda-b37d-45ff-a1d5-86f0fd1cf0a9",
   "metadata": {
    "editable": true,
    "slideshow": {
     "slide_type": ""
    },
    "tags": []
   },
   "source": [
    "First, let us look at simple array addition."
   ]
  },
  {
   "cell_type": "code",
   "execution_count": 409,
   "id": "f79a108a-11de-4136-b4c9-661071f0ed61",
   "metadata": {
    "editable": true,
    "slideshow": {
     "slide_type": ""
    },
    "tags": []
   },
   "outputs": [
    {
     "data": {
      "text/plain": [
       "array([3, 5, 7])"
      ]
     },
     "execution_count": 409,
     "metadata": {},
     "output_type": "execute_result"
    }
   ],
   "source": [
    "import numpy as np\n",
    "\n",
    "arr1 = np.array([1, 2, 3])\n",
    "arr2 = np.array([2, 3, 4])\n",
    "arr1 + arr2"
   ]
  },
  {
   "cell_type": "markdown",
   "id": "64ab2ed3-41eb-4d6a-974a-03239800c910",
   "metadata": {
    "editable": true,
    "slideshow": {
     "slide_type": ""
    },
    "tags": []
   },
   "source": [
    "We can also try adding a scalar to an array."
   ]
  },
  {
   "cell_type": "code",
   "execution_count": 415,
   "id": "c7d8cbfe-f0de-4f3a-a98b-209f19063a44",
   "metadata": {
    "editable": true,
    "slideshow": {
     "slide_type": ""
    },
    "tags": []
   },
   "outputs": [
    {
     "data": {
      "text/plain": [
       "array([6, 7, 8])"
      ]
     },
     "execution_count": 415,
     "metadata": {},
     "output_type": "execute_result"
    }
   ],
   "source": [
    "arr1 + 5"
   ]
  },
  {
   "cell_type": "markdown",
   "id": "9c46a17f-3de1-412b-bb4b-0dc966cf32d9",
   "metadata": {
    "editable": true,
    "slideshow": {
     "slide_type": ""
    },
    "tags": []
   },
   "source": [
    "Let us now consider another array of dimensions `1x3`."
   ]
  },
  {
   "cell_type": "code",
   "execution_count": 421,
   "id": "80fdd225-7533-4acb-a4bb-4a9246db97e4",
   "metadata": {
    "editable": true,
    "slideshow": {
     "slide_type": ""
    },
    "tags": []
   },
   "outputs": [
    {
     "data": {
      "text/plain": [
       "array([[5, 6, 7],\n",
       "       [6, 7, 8],\n",
       "       [7, 8, 9]])"
      ]
     },
     "execution_count": 421,
     "metadata": {},
     "output_type": "execute_result"
    }
   ],
   "source": [
    "arr3 = np.array([[4], [5], [6]])\n",
    "arr1 + arr3"
   ]
  },
  {
   "cell_type": "markdown",
   "id": "6edac9b6-d684-421e-afaa-78b39f77bd2a",
   "metadata": {
    "editable": true,
    "slideshow": {
     "slide_type": ""
    },
    "tags": []
   },
   "source": [
    "As we can see, numpy has added a `3x1` array to a `1x3` array without throwing any error. This happens because of broadcasting. `arr1` is expanded accross the vertical axis, and two copies of the first row are made, resulting in: $\\begin{bmatrix} 1 & 2 & 3 \\\\ 1 & 2 & 3 \\\\ 1 & 2 & 3 \\end{bmatrix}$. `arr3` is expanded accross the horizontal axis, and two copies of the first column are made, resulting in: $\\begin{bmatrix} 4 & 5 & 6 \\\\ 4 & 5 & 6 \\\\ 4 & 5 & 6 \\end{bmatrix}$. These arrays can now simply be added, one element at a time."
   ]
  },
  {
   "cell_type": "markdown",
   "id": "25f662a0-4c2a-40e5-b04b-34d1def34831",
   "metadata": {
    "editable": true,
    "slideshow": {
     "slide_type": ""
    },
    "tags": []
   },
   "source": [
    "There are few cases, when broadcasting is not possible, and the two arrays cannot be added. This happens when neither of the arrays can be expanded to a common shape. Let us take an example."
   ]
  },
  {
   "cell_type": "code",
   "execution_count": 434,
   "id": "56703cd6-eada-4f24-9d7b-813a568a2b0a",
   "metadata": {
    "editable": true,
    "slideshow": {
     "slide_type": ""
    },
    "tags": []
   },
   "outputs": [
    {
     "ename": "ValueError",
     "evalue": "operands could not be broadcast together with shapes (3,) (4,) ",
     "output_type": "error",
     "traceback": [
      "\u001b[0;31m---------------------------------------------------------------------------\u001b[0m",
      "\u001b[0;31mValueError\u001b[0m                                Traceback (most recent call last)",
      "Cell \u001b[0;32mIn[434], line 2\u001b[0m\n\u001b[1;32m      1\u001b[0m arr4 \u001b[38;5;241m=\u001b[39m np\u001b[38;5;241m.\u001b[39marray([\u001b[38;5;241m10\u001b[39m, \u001b[38;5;241m11\u001b[39m, \u001b[38;5;241m12\u001b[39m, \u001b[38;5;241m13\u001b[39m])\n\u001b[0;32m----> 2\u001b[0m arr1 \u001b[38;5;241m+\u001b[39m arr4\n",
      "\u001b[0;31mValueError\u001b[0m: operands could not be broadcast together with shapes (3,) (4,) "
     ]
    }
   ],
   "source": [
    "arr4 = np.array([10, 11, 12, 13])\n",
    "arr1 + arr4"
   ]
  },
  {
   "cell_type": "markdown",
   "id": "40478ab8-6ec5-4498-9fbc-51c7903bb856",
   "metadata": {
    "editable": true,
    "slideshow": {
     "slide_type": ""
    },
    "tags": []
   },
   "source": [
    "This is how broadcasting works in numpy."
   ]
  },
  {
   "cell_type": "markdown",
   "id": "cd1d22e1-fb06-495c-9ba3-b26fff5f7cc9",
   "metadata": {
    "editable": true,
    "slideshow": {
     "slide_type": ""
    },
    "tags": []
   },
   "source": [
    "---"
   ]
  },
  {
   "cell_type": "markdown",
   "id": "9f3fbadb-559e-4c2d-96eb-36b626a5c98a",
   "metadata": {
    "editable": true,
    "slideshow": {
     "slide_type": ""
    },
    "tags": []
   },
   "source": [
    "# Question 13: Argmin using Custom Function"
   ]
  },
  {
   "cell_type": "markdown",
   "id": "6a1b4e2b-5ea9-4604-a21e-f5a89dd6ccd8",
   "metadata": {
    "editable": true,
    "slideshow": {
     "slide_type": ""
    },
    "tags": []
   },
   "source": [
    "We will first implement `argmin` using a custom python function, and then compare the results with `np.argmin` to verify the solution."
   ]
  },
  {
   "cell_type": "markdown",
   "id": "7f2a0ed3-f579-482e-962b-c844fb8850ca",
   "metadata": {
    "editable": true,
    "slideshow": {
     "slide_type": ""
    },
    "tags": []
   },
   "source": [
    "### Python Code"
   ]
  },
  {
   "cell_type": "code",
   "execution_count": 447,
   "id": "9a322834-c596-4c9d-953a-1f899c623ff9",
   "metadata": {
    "editable": true,
    "slideshow": {
     "slide_type": ""
    },
    "tags": []
   },
   "outputs": [],
   "source": [
    "import numpy as np\n",
    "\n",
    "def custom_argmin(arr: np.ndarray) -> int:\n",
    "    # we first flatten the array to consider all elements even if they are nested\n",
    "    flattened_arr = arr.ravel()\n",
    "    \n",
    "    min_val_index = 0\n",
    "    min_val = flattened_arr[0]\n",
    "    \n",
    "    for i in range(1, len(flattened_arr)):\n",
    "        if flattened_arr[i] < min_val:\n",
    "            min_val = flattened_arr[i]\n",
    "            min_val_index = i\n",
    "    \n",
    "    return min_val_index"
   ]
  },
  {
   "cell_type": "markdown",
   "id": "8032d06e-9487-47a4-bc18-6731fde1e38d",
   "metadata": {
    "editable": true,
    "slideshow": {
     "slide_type": ""
    },
    "tags": []
   },
   "source": [
    "Now, we create a random array to test our function and compare it against `np.argmin`."
   ]
  },
  {
   "cell_type": "code",
   "execution_count": 463,
   "id": "d4bd272d-a383-49ce-be82-a157e77ec5d2",
   "metadata": {
    "editable": true,
    "slideshow": {
     "slide_type": ""
    },
    "tags": []
   },
   "outputs": [
    {
     "name": "stdout",
     "output_type": "stream",
     "text": [
      "[[39 24 30 21 54]\n",
      " [39 42 43 57 87]\n",
      " [82 93 31 95 65]\n",
      " [51 80 21 36  9]]\n"
     ]
    }
   ],
   "source": [
    "arr = np.random.randint(1, 100, size=(4, 5))\n",
    "print(arr)"
   ]
  },
  {
   "cell_type": "code",
   "execution_count": 465,
   "id": "350f769c-3846-4ef3-a0eb-e16d284af766",
   "metadata": {
    "editable": true,
    "slideshow": {
     "slide_type": ""
    },
    "tags": []
   },
   "outputs": [
    {
     "name": "stdout",
     "output_type": "stream",
     "text": [
      "19\n"
     ]
    }
   ],
   "source": [
    "print(custom_argmin(arr))"
   ]
  },
  {
   "cell_type": "code",
   "execution_count": 469,
   "id": "f6a02490-8985-42ee-a623-cbab8b723040",
   "metadata": {
    "editable": true,
    "slideshow": {
     "slide_type": ""
    },
    "tags": []
   },
   "outputs": [
    {
     "name": "stdout",
     "output_type": "stream",
     "text": [
      "19\n"
     ]
    }
   ],
   "source": [
    "print(np.argmin(arr))"
   ]
  },
  {
   "cell_type": "markdown",
   "id": "c22b741d-b3f6-4e8e-9052-a9ee8dee92b1",
   "metadata": {
    "editable": true,
    "slideshow": {
     "slide_type": ""
    },
    "tags": []
   },
   "source": [
    "As we can see, both produce the same result."
   ]
  },
  {
   "cell_type": "markdown",
   "id": "2241ef4a-d3b2-4667-abeb-b88c9d65311f",
   "metadata": {
    "editable": true,
    "slideshow": {
     "slide_type": ""
    },
    "tags": []
   },
   "source": [
    "---"
   ]
  }
 ],
 "metadata": {
  "kernelspec": {
   "display_name": "Python 3 (ipykernel)",
   "language": "python",
   "name": "python3"
  },
  "language_info": {
   "codemirror_mode": {
    "name": "ipython",
    "version": 3
   },
   "file_extension": ".py",
   "mimetype": "text/x-python",
   "name": "python",
   "nbconvert_exporter": "python",
   "pygments_lexer": "ipython3",
   "version": "3.11.7"
  }
 },
 "nbformat": 4,
 "nbformat_minor": 5
}
